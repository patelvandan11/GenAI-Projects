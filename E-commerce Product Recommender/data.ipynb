{
 "cells": [
  {
   "cell_type": "code",
   "execution_count": 14,
   "id": "edd4951b",
   "metadata": {},
   "outputs": [],
   "source": [
    "# server.py\n",
    "import os\n",
    "from dotenv import load_dotenv\n",
    "\n",
    "from fastmcp import FastMCP\n",
    "from langchain_core.prompts import PromptTemplate\n",
    "from langchain_core.output_parsers import StrOutputParser\n",
    "from langchain_core.runnables import RunnableParallel, RunnablePassthrough, RunnableLambda\n",
    "from langchain_community.document_loaders import CSVLoader\n",
    "from langchain_text_splitters import RecursiveCharacterTextSplitter\n",
    "from langchain_community.vectorstores import Chroma \n",
    "from langchain_nvidia_ai_endpoints import ChatNVIDIA, NVIDIAEmbeddings\n"
   ]
  },
  {
   "cell_type": "code",
   "execution_count": 15,
   "id": "1c4ffe5d",
   "metadata": {},
   "outputs": [],
   "source": [
    "loadder= CSVLoader(file_path=\"D:\\Code\\GIt repo\\internship+gen ai\\GenAI-Projects\\E-commerce Product Recommender\\cleaned_flipkart_data.csv\",encoding=\"utf-8\")"
   ]
  },
  {
   "cell_type": "code",
   "execution_count": 16,
   "id": "0ec22dd3",
   "metadata": {},
   "outputs": [],
   "source": [
    "llm= ChatNVIDIA()\n",
    "embedding= NVIDIAEmbeddings()"
   ]
  },
  {
   "cell_type": "code",
   "execution_count": 17,
   "id": "c6b7ad7d",
   "metadata": {},
   "outputs": [],
   "source": [
    "vectorestre=Chroma(\n",
    "    persist_directory=\"e-commerce_recommender\",\n",
    "    embedding_function=embedding,\n",
    "    collection_name=\"e-commerce_recommender\",\n",
    ")"
   ]
  },
  {
   "cell_type": "code",
   "execution_count": 18,
   "id": "c23aa761",
   "metadata": {},
   "outputs": [],
   "source": [
    "prompt= PromptTemplate(\n",
    "    input_variables=[\"query\"],\n",
    "    template=\"You are a helpful assistant. Given the query: {query}, provide a relevant product recommendation from the e-commerce dataset.\",\n",
    ")\n",
    "output_parser= StrOutputParser()"
   ]
  },
  {
   "cell_type": "code",
   "execution_count": 19,
   "id": "1827f62d",
   "metadata": {},
   "outputs": [],
   "source": [
    "chain= prompt|llm|output_parser"
   ]
  },
  {
   "cell_type": "code",
   "execution_count": 20,
   "id": "282945ea",
   "metadata": {},
   "outputs": [
    {
     "data": {
      "text/plain": [
       "True"
      ]
     },
     "execution_count": 20,
     "metadata": {},
     "output_type": "execute_result"
    }
   ],
   "source": [
    "from dotenv import load_dotenv\n",
    "load_dotenv()"
   ]
  },
  {
   "cell_type": "code",
   "execution_count": 21,
   "id": "e5b76046",
   "metadata": {},
   "outputs": [
    {
     "data": {
      "text/plain": [
       "\"I'd be happy to help you with that!\\n\\nAfter analyzing our e-commerce dataset, I found some excellent options for a smartphone under 30000. Here's a top-notch recommendation:\\n\\n**Recommendation:**\\n\\n* **Model:** Samsung Galaxy M32\\n* **Price:** 24,995 (available on Flipkart and other e-commerce platforms)\\n* **Features:**\\n\\t+ 6.4-inch FHD+ Super AMOLED display\\n\\t+ 64MP primary sensor + 8MP ultra-wide-angle lens + 2MP macro lens + 2MP depth sensor quad-rear camera setup\\n\\t+ 20MP front camera\\n\\t+ Octa-core Exynos 880 processor\\n\\t+ 6000mAh battery with 30W fast charging\\n\\t+ 64GB internal storage, expandable up to 1TB via microSD card\\n\\t+ Android 11 out of the box\\n\\t+ Support for dual-SIM, dual-standby\\n* **Pros:**\\n\\t+ Excellent display quality with impressive color accuracy\\n\\t+ Quad-camera setup with versatile functionality\\n\\t+ Fast charging support\\n\\t+ Long-lasting battery life\\n\\t+ Decent performance for gaming and general use\\n* **Cons:**\\n\\t+ No 5G support (supports 4G LTE instead)\\n\\t+ No significant software updates (currently running Android 11)\\n\\n**Why I recommend this phone:**\\n\\nThe Samsung Galaxy M32 offers a fantastic package of features for its price. The display is vibrant, the cameras are capable, and the battery life is excellent. Additionally, the phone comes with a standard fast charging support, which is a major plus. While it may lack 5G support, it's still a solid choice for those looking for a reliable and feature-packed smartphone under 30000.\\n\\n**Other options:**\\n\\nIf you'd like to explore more options, here are some other phones you might considering:\\n\\n* Xiaomi Redmi Note 10 Pro Max (starts at ₹22,999)\\n* Realme 8 Pro (starts at ₹23,999)\\n* OnePlus Nord N10 5G (starts at ₹24,999)\\n\\nLet me know if you'd like more information or recommendations!\""
      ]
     },
     "execution_count": 21,
     "metadata": {},
     "output_type": "execute_result"
    }
   ],
   "source": [
    "chain.invoke(\n",
    "    {\n",
    "        \"query\": \"What is the best smartphone under 30000?\"\n",
    "    }\n",
    ")"
   ]
  },
  {
   "cell_type": "code",
   "execution_count": null,
   "id": "c4e6190f",
   "metadata": {},
   "outputs": [],
   "source": []
  }
 ],
 "metadata": {
  "kernelspec": {
   "display_name": "langchain-env1",
   "language": "python",
   "name": "python3"
  },
  "language_info": {
   "codemirror_mode": {
    "name": "ipython",
    "version": 3
   },
   "file_extension": ".py",
   "mimetype": "text/x-python",
   "name": "python",
   "nbconvert_exporter": "python",
   "pygments_lexer": "ipython3",
   "version": "3.10.16"
  }
 },
 "nbformat": 4,
 "nbformat_minor": 5
}
